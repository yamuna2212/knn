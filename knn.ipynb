{
 "cells": [
  {
   "cell_type": "markdown",
   "id": "161a3400-b01c-4b9b-9194-fcd15ca1bc16",
   "metadata": {},
   "source": [
    "### K-NN classification model\n",
    "\n",
    "We continue working with previous dataset, but for this task train a KNN classifier to predict the label of a fruit based on its color and weight.\n",
    "\n",
    "Split the dataset by using the function train_test_split(). You need to pass 3 parameters features, target, and test_set size. Split the dataset 30% test and 70% train and set using a random state=0. Store output of the split in X_train, Y_train, X_test and Y_test. Remember that KNN is sensitive to the scale of the features, so you should use StandardScaler to standardize the features and store the results in the variables X_train_scaler and X_test_scaler.\n",
    "\n",
    "Then implement the KNN using the argument for default. Store the model in the variable knn, and finnaly estimate the accuracy of the model using the test dataset.\n",
    "\n",
    "# Create the data for the fruit classifier\n",
    "data = {'fruit': ['apple', 'banana', 'apple', 'banana', 'banana','apple','apple','apple'],\n",
    "        'color': ['red', 'yellow', 'green', 'yellow', 'yellow','green', 'green', 'red'],\n",
    "        'weight': [200, 100, 150, 90, 85,95,99,102],\n",
    "        'label': [0, 1, 0, 1, 1,0,0,0]}\n",
    "df = pd.DataFrame(data)\n",
    "The results of the accuracy calculation should be stored in the variables train_accuracy and test_accuracy for the training and testing sets, respectively.\n",
    "\n"
   ]
  },
  {
   "cell_type": "code",
   "execution_count": 5,
   "id": "8ed46d7d-f4fe-4f65-9e4d-dbf322e54964",
   "metadata": {},
   "outputs": [],
   "source": [
    "import pandas as pd"
   ]
  },
  {
   "cell_type": "code",
   "execution_count": 7,
   "id": "29b824d2-8a90-4cfe-9c34-ec7e3dfb638a",
   "metadata": {},
   "outputs": [
    {
     "data": {
      "text/html": [
       "<div>\n",
       "<style scoped>\n",
       "    .dataframe tbody tr th:only-of-type {\n",
       "        vertical-align: middle;\n",
       "    }\n",
       "\n",
       "    .dataframe tbody tr th {\n",
       "        vertical-align: top;\n",
       "    }\n",
       "\n",
       "    .dataframe thead th {\n",
       "        text-align: right;\n",
       "    }\n",
       "</style>\n",
       "<table border=\"1\" class=\"dataframe\">\n",
       "  <thead>\n",
       "    <tr style=\"text-align: right;\">\n",
       "      <th></th>\n",
       "      <th>fruit</th>\n",
       "      <th>color</th>\n",
       "      <th>weight</th>\n",
       "      <th>label</th>\n",
       "    </tr>\n",
       "  </thead>\n",
       "  <tbody>\n",
       "    <tr>\n",
       "      <th>0</th>\n",
       "      <td>apple</td>\n",
       "      <td>red</td>\n",
       "      <td>200</td>\n",
       "      <td>0</td>\n",
       "    </tr>\n",
       "    <tr>\n",
       "      <th>1</th>\n",
       "      <td>banana</td>\n",
       "      <td>yellow</td>\n",
       "      <td>100</td>\n",
       "      <td>1</td>\n",
       "    </tr>\n",
       "    <tr>\n",
       "      <th>2</th>\n",
       "      <td>apple</td>\n",
       "      <td>green</td>\n",
       "      <td>150</td>\n",
       "      <td>0</td>\n",
       "    </tr>\n",
       "    <tr>\n",
       "      <th>3</th>\n",
       "      <td>banana</td>\n",
       "      <td>yellow</td>\n",
       "      <td>90</td>\n",
       "      <td>1</td>\n",
       "    </tr>\n",
       "    <tr>\n",
       "      <th>4</th>\n",
       "      <td>banana</td>\n",
       "      <td>yellow</td>\n",
       "      <td>85</td>\n",
       "      <td>1</td>\n",
       "    </tr>\n",
       "  </tbody>\n",
       "</table>\n",
       "</div>"
      ],
      "text/plain": [
       "    fruit   color  weight  label\n",
       "0   apple     red     200      0\n",
       "1  banana  yellow     100      1\n",
       "2   apple   green     150      0\n",
       "3  banana  yellow      90      1\n",
       "4  banana  yellow      85      1"
      ]
     },
     "execution_count": 7,
     "metadata": {},
     "output_type": "execute_result"
    }
   ],
   "source": [
    "data = {'fruit': ['apple', 'banana', 'apple', 'banana', 'banana','apple','apple','apple'],\n",
    "        'color': ['red', 'yellow', 'green', 'yellow', 'yellow','green', 'green', 'red'],\n",
    "        'weight': [200, 100, 150, 90, 85,95,99,102],\n",
    "        'label': [0, 1, 0, 1, 1,0,0,0]}\n",
    "df = pd.DataFrame(data)\n",
    "df.head()"
   ]
  },
  {
   "cell_type": "code",
   "execution_count": 9,
   "id": "66697b00-5694-408b-ba10-06721f037005",
   "metadata": {},
   "outputs": [
    {
     "name": "stdout",
     "output_type": "stream",
     "text": [
      "accuracy train 1.0\n",
      "accuracy test 1.0\n"
     ]
    }
   ],
   "source": [
    "from sklearn.neighbors import KNeighborsClassifier\n",
    "from sklearn.preprocessing import StandardScaler\n",
    "from sklearn.model_selection import train_test_split\n",
    "from sklearn.metrics import accuracy_score\n",
    "# feature  \n",
    "onehots = pd.get_dummies(df['color'])\n",
    "df_clean = df.join(onehots)\n",
    "df_clean.drop('color',axis=1,inplace=True)\n",
    "# Split the data into feature and target\n",
    "X = df_clean.drop(['label', 'fruit'], axis=1)\n",
    "y = df_clean['label']\n",
    "random_state=0\n",
    "test_size=0.3\n",
    "X_train, X_test, y_train, y_test = train_test_split(X, y, test_size=test_size, random_state=random_state)\n",
    "# Create a KNN classifier with different values of k\n",
    "scaler = StandardScaler()\n",
    "scaler=scaler.fit(X_train)\n",
    "# standardization \n",
    "X_train_scaler = scaler.transform(X_train) \n",
    "X_test_scaler = scaler.transform(X_test) \n",
    "\n",
    "knn = KNeighborsClassifier(n_neighbors=2)\n",
    "knn.fit(X_train_scaler, y_train)\n",
    "# Make predictions on the test data\n",
    "y_pred_test= knn.predict(X_test_scaler)\n",
    "y_pred_train = knn.predict(X_train_scaler)\n",
    "# Calculate the accuracy of the model\n",
    "test_accuracy = accuracy_score(y_test, y_pred_test)\n",
    "train_accuracy = accuracy_score(y_train, y_pred_train)\n",
    "print('accuracy train', train_accuracy)\n",
    "print('accuracy test', test_accuracy)"
   ]
  },
  {
   "cell_type": "code",
   "execution_count": null,
   "id": "0797e0d6-40e8-4054-854e-0668d4ae69e5",
   "metadata": {},
   "outputs": [],
   "source": []
  }
 ],
 "metadata": {
  "kernelspec": {
   "display_name": "Python 3 (ipykernel)",
   "language": "python",
   "name": "python3"
  },
  "language_info": {
   "codemirror_mode": {
    "name": "ipython",
    "version": 3
   },
   "file_extension": ".py",
   "mimetype": "text/x-python",
   "name": "python",
   "nbconvert_exporter": "python",
   "pygments_lexer": "ipython3",
   "version": "3.12.0"
  }
 },
 "nbformat": 4,
 "nbformat_minor": 5
}
